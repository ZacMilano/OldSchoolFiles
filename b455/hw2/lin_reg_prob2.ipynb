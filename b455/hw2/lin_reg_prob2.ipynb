{
  "nbformat": 4,
  "nbformat_minor": 0,
  "metadata": {
    "colab": {
      "name": "lin_reg_prob2.ipynb",
      "version": "0.3.2",
      "provenance": [],
      "collapsed_sections": []
    },
    "kernelspec": {
      "name": "python3",
      "display_name": "Python 3"
    }
  },
  "cells": [
    {
      "metadata": {
        "id": "TVgXU5cF0Mtr",
        "colab_type": "code",
        "outputId": "3780d19d-6d4b-47c7-fe5e-70a8fac64acf",
        "colab": {
          "base_uri": "https://localhost:8080/",
          "height": 617
        }
      },
      "cell_type": "code",
      "source": [
        "import numpy as np\n",
        "import matplotlib.pyplot as plt\n",
        "\n",
        "# Raw data points\n",
        "salary = [137, 135, 127, 122, 120, 118, 118, 117, 117, 114]\n",
        "tuition = [28540, 40133, 39900, 0, 0, 42050, 43220, 39565, 40400, 54506]\n",
        "\n",
        "# Plot data points on graph\n",
        "plt.scatter(tuition, salary)\n",
        "\n",
        "# Show covariance matrix\n",
        "print(\"Covariance matrix between data:\\n\", np.cov(salary, tuition))\n",
        "\n",
        "# Convert data to np arrays\n",
        "salary = np.array([[data_point] for data_point in salary])\n",
        "tuition = np.array([[data_point] for data_point in tuition])\n",
        "\n",
        "# Linear regression model\n",
        "def linreg(inputs, targets):\n",
        "  transformed_inputs = np.concatenate((inputs, -np.ones((np.shape(inputs)[0],1))), axis=1)\n",
        "  beta = np.dot(np.dot(np.linalg.inv(np.dot(np.transpose(transformed_inputs),transformed_inputs)),\n",
        "                       np.transpose(transformed_inputs)),\n",
        "                targets)\n",
        "  outputs = np.dot(transformed_inputs, beta)\n",
        "  return outputs\n",
        "\n",
        "# Compute regression outputs\n",
        "expected = linreg(tuition, salary)\n",
        "\n",
        "# Plot the fit line\n",
        "plt.plot(tuition, expected)\n",
        "plt.show()\n",
        "\n",
        "print(\"Expected salary based on tuition:\\n\",\n",
        "      *(\"Tuititon: {0: <6}, Salary: {1}\\n\".format(tuit[0], sal[0])\n",
        "       for (tuit, sal)\n",
        "       in sorted(zip(tuition, expected))))"
      ],
      "execution_count": 1,
      "outputs": [
        {
          "output_type": "stream",
          "text": [
            "Covariance matrix between data:\n",
            " [[ 6.29444444e+01 -2.13090000e+04]\n",
            " [-2.13090000e+04  3.38090577e+08]]\n"
          ],
          "name": "stdout"
        },
        {
          "output_type": "display_data",
          "data": {
            "image/png": "[encoded data removed]",
            "text/plain": [
              "<Figure size 576x396 with 1 Axes>"
            ]
          },
          "metadata": {
            "tags": []
          }
        },
        {
          "output_type": "stream",
          "text": [
            "Expected salary based on tuition:\n",
            " Tuititon: 0     , Salary: 124.56928069219097\n",
            " Tuititon: 0     , Salary: 124.56928069219097\n",
            " Tuititon: 28540 , Salary: 122.77047616496618\n",
            " Tuititon: 39565 , Salary: 122.07559810215422\n",
            " Tuititon: 39900 , Salary: 122.05448389344294\n",
            " Tuititon: 40133 , Salary: 122.03979848857806\n",
            " Tuititon: 40400 , Salary: 122.02297014909772\n",
            " Tuititon: 42050 , Salary: 121.91897479275852\n",
            " Tuititon: 43220 , Salary: 121.84523263099071\n",
            " Tuititon: 54506 , Salary: 121.13390439363056\n",
            "\n"
          ],
          "name": "stdout"
        }
      ]
    },
    {
      "metadata": {
        "id": "1uX1Mer-cBTi",
        "colab_type": "text"
      },
      "cell_type": "markdown",
      "source": [
        "Based on the covariance matrix alone, it is clear to see that tuition and salary have a negative correlation -- according to the data, as the price of yearly tuition increases, predicted yearly salary decreases.\n",
        "\n",
        "Based on the linear regression model that we are learning about, it is even clearer to see: there is a negative trend line that best fits the training data. For a higher yearly tuition for a student, it is expected by this model that they will earn less money per year in a salaried job mid-career after graduating. The costs of higher tuition do not seem to translate into higher-paying jobs with this dataset."
      ]
    }
  ]
}